{
  "nbformat": 4,
  "nbformat_minor": 0,
  "metadata": {
    "colab": {
      "provenance": [],
      "mount_file_id": "1xV8dRJ_e1P7IV7TdgvmwQkzmbVUbv8WR",
      "authorship_tag": "ABX9TyMZIlMZnIkFqZwWgC769YY7",
      "include_colab_link": true
    },
    "kernelspec": {
      "name": "python3",
      "display_name": "Python 3"
    },
    "language_info": {
      "name": "python"
    }
  },
  "cells": [
    {
      "cell_type": "markdown",
      "metadata": {
        "id": "view-in-github",
        "colab_type": "text"
      },
      "source": [
        "<a href=\"https://colab.research.google.com/github/Toshiki18/network/blob/main/network_dammy.ipynb\" target=\"_parent\"><img src=\"https://colab.research.google.com/assets/colab-badge.svg\" alt=\"Open In Colab\"/></a>"
      ]
    },
    {
      "cell_type": "code",
      "execution_count": null,
      "metadata": {
        "id": "P2wkhisgniwq"
      },
      "outputs": [],
      "source": [
        "import csv\n",
        "import random"
      ]
    },
    {
      "cell_type": "code",
      "source": [
        "def generate_network_data(num_nodes, num_edges):\n",
        "    # ノードとエッジの生成\n",
        "    nodes = [str(i) for i in range(num_nodes)]\n",
        "    edges = [(random.choice(nodes), random.choice(nodes)) for _ in range(num_edges)]\n",
        "\n",
        "    # データを格納するリストの初期化\n",
        "    network_data = []\n",
        "\n",
        "    # エッジごとにデータを生成\n",
        "    for idx, (source, target) in enumerate(edges):\n",
        "        network_data.append({\n",
        "            'from': source,\n",
        "            'to': target,\n",
        "            'id': idx + 1,  # インデックスを1から始めるために+1\n",
        "            'count': random.randint(1, 10)  # 1から10のランダムなカウントを生成\n",
        "        })\n",
        "\n",
        "    return network_data"
      ],
      "metadata": {
        "id": "VdwIywDdnwow"
      },
      "execution_count": null,
      "outputs": []
    },
    {
      "cell_type": "code",
      "source": [
        "def save_to_csv(data, filename):\n",
        "    # CSVファイルにデータを書き込む\n",
        "    with open(filename, 'w', newline='') as csvfile:\n",
        "        fieldnames = ['from', 'to', 'id', 'count']\n",
        "        writer = csv.DictWriter(csvfile, fieldnames=fieldnames)\n",
        "\n",
        "        # ヘッダーを書き込む\n",
        "        writer.writeheader()\n",
        "\n",
        "        # データを書き込む\n",
        "        for row in data:\n",
        "            writer.writerow(row)"
      ],
      "metadata": {
        "id": "p7d2v_Hknz3Z"
      },
      "execution_count": null,
      "outputs": []
    },
    {
      "cell_type": "code",
      "source": [
        "num_nodes = 300  # ノード数\n",
        "num_edges = 4000  # エッジ数\n",
        "network_data = generate_network_data(num_nodes, num_edges)\n",
        "\n",
        "# CSVファイルに保存\n",
        "save_to_csv(network_data, 'network_data.csv')"
      ],
      "metadata": {
        "id": "08HdY_COn2xe"
      },
      "execution_count": null,
      "outputs": []
    },
    {
      "cell_type": "code",
      "source": [],
      "metadata": {
        "id": "_cFP4eX3oBcN"
      },
      "execution_count": null,
      "outputs": []
    }
  ]
}